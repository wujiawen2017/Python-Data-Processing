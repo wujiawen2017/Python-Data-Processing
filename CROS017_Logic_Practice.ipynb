{
 "cells": [
  {
   "cell_type": "code",
   "execution_count": 3,
   "metadata": {},
   "outputs": [],
   "source": [
    "import pandas as pd\n",
    "import numpy as np"
   ]
  },
  {
   "cell_type": "code",
   "execution_count": 10,
   "metadata": {},
   "outputs": [
    {
     "name": "stdout",
     "output_type": "stream",
     "text": [
      "   QA Added? PROD Dropped? Environment    Alert_ID         Exception ID   new\n",
      "0  new_value           NaN          QA  1005134136  '291063630100000001      \n",
      "1  new_value       dropped        PROD  1001223066  '291063630100000002  HAHA\n",
      "2  new_value           NaN        PROD  1001223050  '291063630100000003  HAHA\n",
      "3  new_value           NaN          QA  1005134092  '291063630100000003      \n",
      "4  new_value       dropped        PROD  1001223054  '291063630100000004  HAHA\n"
     ]
    }
   ],
   "source": [
    "df = pd.read_csv(\"master_exception_list.csv\")\n",
    "df_short = df.head().iloc[:,:5]\n",
    "df_short.columns.values[0] = \"QA Added?\"\n",
    "df_short.columns.values[1] = \"PROD Dropped?\"\n",
    "df_short['new'] = ''\n",
    "for index, row in df_short.iterrows():\n",
    "    df_short.at[index,'QA Added?'] = \"new_value\"\n",
    "    if index >= 1 and df_short.iloc[index,2]=='PROD':\n",
    "        df_short.iloc[index,5] = \"HAHA\"\n",
    "df_short.to_csv(\"new_file.csv\")\n",
    "print(df_short)"
   ]
  },
  {
   "cell_type": "code",
   "execution_count": 21,
   "metadata": {},
   "outputs": [
    {
     "data": {
      "text/html": [
       "<div>\n",
       "<style scoped>\n",
       "    .dataframe tbody tr th:only-of-type {\n",
       "        vertical-align: middle;\n",
       "    }\n",
       "\n",
       "    .dataframe tbody tr th {\n",
       "        vertical-align: top;\n",
       "    }\n",
       "\n",
       "    .dataframe thead th {\n",
       "        text-align: right;\n",
       "    }\n",
       "</style>\n",
       "<table border=\"1\" class=\"dataframe\">\n",
       "  <thead>\n",
       "    <tr style=\"text-align: right;\">\n",
       "      <th></th>\n",
       "      <th>QA Added?</th>\n",
       "      <th>PROD Dropped?</th>\n",
       "      <th>Environment</th>\n",
       "      <th>Alert_ID</th>\n",
       "      <th>Exception ID</th>\n",
       "      <th>new</th>\n",
       "    </tr>\n",
       "  </thead>\n",
       "  <tbody>\n",
       "    <tr>\n",
       "      <th>0</th>\n",
       "      <td>added</td>\n",
       "      <td>NaN</td>\n",
       "      <td>QA</td>\n",
       "      <td>1005134136</td>\n",
       "      <td>'291063630100000001</td>\n",
       "      <td></td>\n",
       "    </tr>\n",
       "    <tr>\n",
       "      <th>1</th>\n",
       "      <td>NaN</td>\n",
       "      <td>dropped</td>\n",
       "      <td>PROD</td>\n",
       "      <td>1001223066</td>\n",
       "      <td>'291063630100000002</td>\n",
       "      <td>HAHA</td>\n",
       "    </tr>\n",
       "    <tr>\n",
       "      <th>2</th>\n",
       "      <td>NaN</td>\n",
       "      <td>NaN</td>\n",
       "      <td>PROD</td>\n",
       "      <td>1001223050</td>\n",
       "      <td>'291063630100000003</td>\n",
       "      <td>HAHA</td>\n",
       "    </tr>\n",
       "    <tr>\n",
       "      <th>3</th>\n",
       "      <td>NaN</td>\n",
       "      <td>NaN</td>\n",
       "      <td>QA</td>\n",
       "      <td>1005134092</td>\n",
       "      <td>'291063630100000003</td>\n",
       "      <td></td>\n",
       "    </tr>\n",
       "    <tr>\n",
       "      <th>4</th>\n",
       "      <td>NaN</td>\n",
       "      <td>dropped</td>\n",
       "      <td>PROD</td>\n",
       "      <td>1001223054</td>\n",
       "      <td>'291063630100000004</td>\n",
       "      <td>HAHA</td>\n",
       "    </tr>\n",
       "  </tbody>\n",
       "</table>\n",
       "</div>"
      ],
      "text/plain": [
       "  QA Added? PROD Dropped? Environment    Alert_ID         Exception ID   new\n",
       "0     added           NaN          QA  1005134136  '291063630100000001      \n",
       "1       NaN       dropped        PROD  1001223066  '291063630100000002  HAHA\n",
       "2       NaN           NaN        PROD  1001223050  '291063630100000003  HAHA\n",
       "3       NaN           NaN          QA  1005134092  '291063630100000003      \n",
       "4       NaN       dropped        PROD  1001223054  '291063630100000004  HAHA"
      ]
     },
     "execution_count": 21,
     "metadata": {},
     "output_type": "execute_result"
    }
   ],
   "source": [
    "df_short"
   ]
  },
  {
   "cell_type": "code",
   "execution_count": 14,
   "metadata": {},
   "outputs": [
    {
     "data": {
      "text/plain": [
       "Index(['QA Added?', 'PROD Dropped?', 'Environment', 'Alert_ID', 'Exception ID',\n",
       "       'Alert Type', 'Alert Flag - Special Days', 'Alert Flag - Regular Days',\n",
       "       'Trade Date', 'Symbol', 'Primary Listing Market', 'MP ID',\n",
       "       'Target Side', 'Influence Close Consolidated Flag',\n",
       "       'Trade Pushing Flag', 'Actual Close Market Center',\n",
       "       'Actual Close Mkt Center Type', 'Actual Close Price',\n",
       "       'Actual Close Vol', 'Actual Close Time', 'Consolidated Close Vol',\n",
       "       'Price Before Scheduled Close', 'Price Before Actual Close',\n",
       "       'Price Change Closing PR', 'Primary Listing Mkt Close Vol',\n",
       "       'Primary Listing Mkt Close PR', 'Target Side Trade Vol',\n",
       "       'Consolidated Trade Vol', 'Consolidated RSA Vol',\n",
       "       'MP Target Side Trade Count', 'MP Target Side Trade Vol',\n",
       "       'MP Target Side MOC LOC Vol', 'MP TS MOC LOC Closing Vol Pct',\n",
       "       'MP TS MOC LOC Day Vol Pct', 'MP Target Side Other Vol',\n",
       "       'MP TS Other Closing Vol Pct', 'MP TS Other Day Vol Pct',\n",
       "       'Combine Target Side Vol', 'Combined Closing Vol Pct',\n",
       "       'Combined Day Vol Pct', 'Pre Close Start Time',\n",
       "       'Last Sale Before Pre Close PR', 'Pre Close Vol',\n",
       "       'Pre Close Trade Count', 'Pre Close RSA Vol',\n",
       "       'Pre Close RSA Trade Count', 'Pre Close Min Price',\n",
       "       'Pre Close Max Price', 'Pre Close Price Change',\n",
       "       'Pre Close Price Change Pct', 'Last Sale Close Price Change',\n",
       "       'Pre Close PR Change Close Pct',\n",
       "       'Infl Close Pre Close PR Change Close Pct', 'MP Pre Close First PR',\n",
       "       'MP Pre Close Last PR', 'MP Pre Close Trade Vol',\n",
       "       'MP Pre Close Trade Count', 'MP Pre Close Taker Trade Count',\n",
       "       'MP Pre Close Total VWA PR', 'MP Pre Close vs First Trade',\n",
       "       'MP Pre Close Trade Count Pct', 'MP Pre Close Trade Vol Pct',\n",
       "       'MP Pre Close Taker Trd Pct', 'Close Pre Close PR Change Pct',\n",
       "       'MP Pre Close First Trd Agg Pct', 'MP Pre Close Day Trd Count Pct',\n",
       "       'MP Pre Close Day Vol Pct', 'MP Contra Close VWA PR',\n",
       "       'MP Contra Close Trd Vol', 'Profit Potential Quantity',\n",
       "       'Profit Potential PR', 'Special Date Indicator', 'TP Eligible Flag',\n",
       "       'Infl Close Eligible Flag', 'Combo MP Pct Total Close Vol',\n",
       "       'Marking Pattern Count', 'Pattern Based Marking Ind', 'Deal ID',\n",
       "       'Firm Deal ID', 'Restricted Period Begin Date',\n",
       "       'Restricted Period End Date', 'Deal Pricing Date', 'Exception Type',\n",
       "       'Group ID', 'Security Type', 'Security Sub Type', 'MP Type'],\n",
       "      dtype='object')"
      ]
     },
     "execution_count": 14,
     "metadata": {},
     "output_type": "execute_result"
    }
   ],
   "source": [
    "df_short.columns"
   ]
  },
  {
   "cell_type": "code",
   "execution_count": null,
   "metadata": {},
   "outputs": [],
   "source": []
  }
 ],
 "metadata": {
  "kernelspec": {
   "display_name": "Python 3",
   "language": "python",
   "name": "python3"
  },
  "language_info": {
   "codemirror_mode": {
    "name": "ipython",
    "version": 3
   },
   "file_extension": ".py",
   "mimetype": "text/x-python",
   "name": "python",
   "nbconvert_exporter": "python",
   "pygments_lexer": "ipython3",
   "version": "3.7.1"
  }
 },
 "nbformat": 4,
 "nbformat_minor": 2
}
